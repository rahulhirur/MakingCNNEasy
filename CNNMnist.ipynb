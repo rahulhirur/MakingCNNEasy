{
  "nbformat": 4,
  "nbformat_minor": 0,
  "metadata": {
    "colab": {
      "provenance": [],
      "gpuType": "T4",
      "toc_visible": true,
      "authorship_tag": "ABX9TyN7PaXWBHV/74uxyCeup0C1",
      "include_colab_link": true
    },
    "kernelspec": {
      "name": "python3",
      "display_name": "Python 3"
    },
    "language_info": {
      "name": "python"
    },
    "accelerator": "GPU"
  },
  "cells": [
    {
      "cell_type": "markdown",
      "metadata": {
        "id": "view-in-github",
        "colab_type": "text"
      },
      "source": [
        "<a href=\"https://colab.research.google.com/github/rahulhirur/MakingCNNEasy/blob/main/CNNMnist.ipynb\" target=\"_parent\"><img src=\"https://colab.research.google.com/assets/colab-badge.svg\" alt=\"Open In Colab\"/></a>"
      ]
    },
    {
      "cell_type": "code",
      "source": [
        "import matplotlib.pyplot as plt\n",
        "import random\n",
        "import keras\n",
        "from keras.datasets import mnist\n",
        "from keras.optimizers import Adam\n",
        "from matplotlib import pyplot as plt"
      ],
      "metadata": {
        "id": "7ZggOzeMMAhC"
      },
      "execution_count": null,
      "outputs": []
    },
    {
      "cell_type": "code",
      "execution_count": null,
      "metadata": {
        "id": "JJZtB1FbLJ0g"
      },
      "outputs": [],
      "source": [
        "\n",
        "# Load the MNIST dataset\n",
        "(train_x, train_y), (test_x, test_y) = mnist.load_data()"
      ]
    },
    {
      "cell_type": "code",
      "source": [
        "#Random index\n",
        "random_index = random.randint(0, len(train_x) - 1)\n",
        "plt.imshow(train_x[random_index], cmap='gray')  # Use 'gray' colormap for grayscale images\n",
        "plt.title(f\"Mnist: {train_y[random_index]}\")\n",
        "print(train_x[random_index].shape)\n",
        "plt.show()\n"
      ],
      "metadata": {
        "colab": {
          "base_uri": "https://localhost:8080/",
          "height": 470
        },
        "id": "AHrC8FMyLxyX",
        "outputId": "ef54c8ba-d29e-4b70-c2b7-ea14eb7da9bb"
      },
      "execution_count": null,
      "outputs": [
        {
          "output_type": "stream",
          "name": "stdout",
          "text": [
            "(28, 28)\n"
          ]
        },
        {
          "output_type": "display_data",
          "data": {
            "text/plain": [
              "<Figure size 640x480 with 1 Axes>"
            ],
            "image/png": "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\n"
          },
          "metadata": {}
        }
      ]
    },
    {
      "cell_type": "markdown",
      "source": [
        "# **Activation function**\n",
        "\n",
        "\n",
        "1. RELU\n",
        "2. Leaky RELU\n",
        "3. Sigmoid Function\n",
        "4. tanH Function\n",
        "5. Binary Step Function\n",
        "\n",
        "\n",
        "\n",
        "\n",
        "\n"
      ],
      "metadata": {
        "id": "AXmeoNxbMnOr"
      }
    },
    {
      "cell_type": "code",
      "source": [
        "model = keras.models.Sequential([\n",
        "    #Layer 1\n",
        "    keras.layers.Conv2D(8, (3,3), padding='same', activation='relu', input_shape=(28,28,1)),\n",
        "    keras.layers.MaxPool2D(pool_size=(2, 2)),\n",
        "    #Layer 2\n",
        "    keras.layers.Conv2D(16, (3,3), padding='same', activation='relu'),\n",
        "    keras.layers.MaxPool2D(pool_size=(2, 2)),\n",
        "    #Layer 3\n",
        "    keras.layers.Conv2D(32, (3,3), padding='same', activation='relu'),\n",
        "    #Layer 4\n",
        "    keras.layers.Flatten(),\n",
        "    #Layer 5\n",
        "    keras.layers.Dense(128, activation='relu'),\n",
        "    keras.layers.Dropout(0.2),\n",
        "    #Layer 6\n",
        "    keras.layers.Dense(10, activation='softmax')\n",
        "])"
      ],
      "metadata": {
        "id": "_o6TDn61Mc3_"
      },
      "execution_count": null,
      "outputs": []
    },
    {
      "cell_type": "code",
      "source": [
        "model.summary()"
      ],
      "metadata": {
        "id": "kIJZmhycPVDD",
        "colab": {
          "base_uri": "https://localhost:8080/"
        },
        "outputId": "08a84b13-6577-4f60-da13-d311eb11f6ff"
      },
      "execution_count": null,
      "outputs": [
        {
          "output_type": "stream",
          "name": "stdout",
          "text": [
            "Model: \"sequential_4\"\n",
            "_________________________________________________________________\n",
            " Layer (type)                Output Shape              Param #   \n",
            "=================================================================\n",
            " conv2d_12 (Conv2D)          (None, 28, 28, 8)         80        \n",
            "                                                                 \n",
            " max_pooling2d_8 (MaxPoolin  (None, 14, 14, 8)         0         \n",
            " g2D)                                                            \n",
            "                                                                 \n",
            " conv2d_13 (Conv2D)          (None, 14, 14, 16)        1168      \n",
            "                                                                 \n",
            " max_pooling2d_9 (MaxPoolin  (None, 7, 7, 16)          0         \n",
            " g2D)                                                            \n",
            "                                                                 \n",
            " conv2d_14 (Conv2D)          (None, 7, 7, 32)          4640      \n",
            "                                                                 \n",
            " flatten_4 (Flatten)         (None, 1568)              0         \n",
            "                                                                 \n",
            " dense_8 (Dense)             (None, 128)               200832    \n",
            "                                                                 \n",
            " dropout_4 (Dropout)         (None, 128)               0         \n",
            "                                                                 \n",
            " dense_9 (Dense)             (None, 10)                1290      \n",
            "                                                                 \n",
            "=================================================================\n",
            "Total params: 208010 (812.54 KB)\n",
            "Trainable params: 208010 (812.54 KB)\n",
            "Non-trainable params: 0 (0.00 Byte)\n",
            "_________________________________________________________________\n"
          ]
        }
      ]
    },
    {
      "cell_type": "code",
      "source": [
        "model.compile(loss=\"sparse_categorical_crossentropy\", optimizer=\"adam\", metrics=[\"acc\"])"
      ],
      "metadata": {
        "id": "eTHPt4ZbxV6-"
      },
      "execution_count": null,
      "outputs": []
    },
    {
      "cell_type": "code",
      "source": [
        "metrics=model.fit(train_x, train_y, batch_size=128, epochs=10)"
      ],
      "metadata": {
        "id": "BQQvqgvkx450",
        "colab": {
          "base_uri": "https://localhost:8080/"
        },
        "outputId": "883cd1b3-ead5-447f-dc89-6fef174c5cd2"
      },
      "execution_count": null,
      "outputs": [
        {
          "output_type": "stream",
          "name": "stdout",
          "text": [
            "Epoch 1/10\n",
            "469/469 [==============================] - 4s 5ms/step - loss: 0.5551 - accuracy: 0.9044\n",
            "Epoch 2/10\n",
            "469/469 [==============================] - 2s 4ms/step - loss: 0.1022 - accuracy: 0.9691\n",
            "Epoch 3/10\n",
            "469/469 [==============================] - 2s 4ms/step - loss: 0.0640 - accuracy: 0.9804\n",
            "Epoch 4/10\n",
            "469/469 [==============================] - 2s 4ms/step - loss: 0.0473 - accuracy: 0.9847\n",
            "Epoch 5/10\n",
            "469/469 [==============================] - 2s 4ms/step - loss: 0.0385 - accuracy: 0.9878\n",
            "Epoch 6/10\n",
            "469/469 [==============================] - 2s 5ms/step - loss: 0.0337 - accuracy: 0.9894\n",
            "Epoch 7/10\n",
            "469/469 [==============================] - 2s 5ms/step - loss: 0.0308 - accuracy: 0.9903\n",
            "Epoch 8/10\n",
            "469/469 [==============================] - 2s 4ms/step - loss: 0.0282 - accuracy: 0.9912\n",
            "Epoch 9/10\n",
            "469/469 [==============================] - 2s 4ms/step - loss: 0.0245 - accuracy: 0.9919\n",
            "Epoch 10/10\n",
            "469/469 [==============================] - 2s 4ms/step - loss: 0.0237 - accuracy: 0.9918\n"
          ]
        }
      ]
    },
    {
      "cell_type": "code",
      "source": [
        "score = model.evaluate(test_x, test_y)\n",
        "print(\"Accuracy- Test Data==>\", score[1])\n"
      ],
      "metadata": {
        "colab": {
          "base_uri": "https://localhost:8080/"
        },
        "id": "YiUbfBv1zd9R",
        "outputId": "964e3d01-8bd8-4153-dc06-ecec04806281"
      },
      "execution_count": null,
      "outputs": [
        {
          "output_type": "stream",
          "name": "stdout",
          "text": [
            "313/313 [==============================] - 1s 3ms/step - loss: 0.0525 - acc: 0.9861\n",
            "Accuracy- Test Data==> 0.9861000180244446\n"
          ]
        }
      ]
    },
    {
      "cell_type": "code",
      "source": [
        "plt.plot([i+1 for i in range(len(metrics.history['loss']))],metrics.history['loss'], marker = '.', markersize = 12, mfc = 'yellow')\n",
        "plt.title('Training Loss')\n",
        "plt.ylabel('Loss')\n",
        "plt.xlabel('Epoch')\n"
      ],
      "metadata": {
        "colab": {
          "base_uri": "https://localhost:8080/",
          "height": 490
        },
        "id": "4GmPkwhU48O_",
        "outputId": "363490f7-bfa0-4a22-9be3-44df02739a05"
      },
      "execution_count": null,
      "outputs": [
        {
          "output_type": "execute_result",
          "data": {
            "text/plain": [
              "Text(0.5, 0, 'Epoch')"
            ]
          },
          "metadata": {},
          "execution_count": 76
        },
        {
          "output_type": "display_data",
          "data": {
            "text/plain": [
              "<Figure size 640x480 with 1 Axes>"
            ],
            "image/png": "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\n"
          },
          "metadata": {}
        }
      ]
    }
